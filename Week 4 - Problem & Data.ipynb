{
 "cells": [
  {
   "cell_type": "markdown",
   "metadata": {},
   "source": [
    "# The Battle of Neighborhoods"
   ]
  },
  {
   "cell_type": "markdown",
   "metadata": {},
   "source": [
    "## Week 4 - Assignment\n",
    "This notebook contains the assignment of week 4, which is: \n",
    "- A description of the problem and a discussion of the background. (15 marks)\n",
    "- A description of the data and how it will be used to solve the problem. (15 marks)"
   ]
  },
  {
   "cell_type": "markdown",
   "metadata": {},
   "source": [
    "### Problem & background\n",
    "My friend John came to me and asked me for help. This summer he will go to Columbia University, New York. \n",
    "He wants to know what is the best neighborhood to live in for him and his girlfriend. \n",
    "\n",
    "John loves Foursquare. But it will take to much time for him to check each and every neighborhood in Manhattan. \n",
    "John and his girlfriends prefers to live in a neighborhood with a: \n",
    "- Bakery\n",
    "- Bar \n",
    "- Breakfast Spot\n",
    "- Café\n",
    "- Cocktail Bar\n",
    "- Coffee Shop \n",
    "- Gym / Fitness Center \n",
    "- Sandwich Place\n",
    "- Shopping Mall\n",
    "- Sushi Restaurant\n",
    "- Pizza Place\n",
    "- Yoga Studio"
   ]
  },
  {
   "cell_type": "markdown",
   "metadata": {},
   "source": [
    "### Data \n",
    "\n",
    "#### Which data will we use?\n",
    "For this problem we use the following datasets: \n",
    "- New York Location Data (https://cocl.us/new_york_dataset) \n",
    "- Foursquare API \n",
    "- Geopy library\n",
    "\n",
    "#### How it will be used to solve the problem? \n",
    "- We use the New York Location data to explore and store venues for evey neighborhood\n",
    "- We use the Foursquare API to explore the venue details of the Manhattan Neighborhoods\n",
    "- We use Geopy to retrieve the coordinates for every neighborhood"
   ]
  }
 ],
 "metadata": {
  "kernelspec": {
   "display_name": "Python 3",
   "language": "python",
   "name": "python3"
  },
  "language_info": {
   "codemirror_mode": {
    "name": "ipython",
    "version": 3
   },
   "file_extension": ".py",
   "mimetype": "text/x-python",
   "name": "python",
   "nbconvert_exporter": "python",
   "pygments_lexer": "ipython3",
   "version": "3.6.8"
  }
 },
 "nbformat": 4,
 "nbformat_minor": 2
}
